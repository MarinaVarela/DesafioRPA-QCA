{
 "cells": [
  {
   "cell_type": "code",
   "execution_count": 6,
   "id": "bc513916",
   "metadata": {},
   "outputs": [],
   "source": [
    "from email.message import EmailMessage\n",
    "import ssl\n",
    "import smtplib\n",
    "\n",
    "email_sender = 'e-mail do remetente'\n",
    "email_password = 'password gerado'\n",
    "email_receiver = 'e-mail do destinatário'\n",
    "\n",
    "subject = 'Desafio RPA - Teste Marina Varela'\n",
    "body = \"\"\"\n",
    "Olá, Fernando! Segue o CSV solicitado e o envio do e-mail através da automação.\n",
    "Muito obrigada pela oportunidade.\n",
    "\n",
    "O código desenvolvido pode ser acessado através do link: https://github.com/MarinaVarela/DesafioRPA-QCA\n",
    "\n",
    "Att, \n",
    "Marina Varela\n",
    "\"\"\"\n",
    "\n",
    "em = EmailMessage()\n",
    "em['From'] = email_sender\n",
    "em['To'] = email_receiver\n",
    "em['Subject'] = subject\n",
    "em.set_content(body)\n",
    "\n",
    "with open('C:\\\\Users\\\\marina\\\\Downloads\\\\bairro.csv', 'rb') as f:\n",
    "    file_data = f.read()\n",
    "    em.add_attachment(file_data, maintype='application', subtype='csv', filename='bairro.csv')\n",
    "\n",
    "context = ssl.create_default_context()\n",
    "\n",
    "with smtplib.SMTP_SSL('smtp.gmail.com', 465, context=context) as smtp:\n",
    "    smtp.login(email_sender, email_password)\n",
    "    smtp.sendmail(email_sender, email_receiver, em.as_string())\n"
   ]
  },
  {
   "cell_type": "code",
   "execution_count": null,
   "id": "7f05cc8c",
   "metadata": {},
   "outputs": [],
   "source": []
  },
  {
   "cell_type": "code",
   "execution_count": null,
   "id": "f0630dfb",
   "metadata": {},
   "outputs": [],
   "source": []
  }
 ],
 "metadata": {
  "kernelspec": {
   "display_name": "Python 3 (ipykernel)",
   "language": "python",
   "name": "python3"
  },
  "language_info": {
   "codemirror_mode": {
    "name": "ipython",
    "version": 3
   },
   "file_extension": ".py",
   "mimetype": "text/x-python",
   "name": "python",
   "nbconvert_exporter": "python",
   "pygments_lexer": "ipython3",
   "version": "3.9.13"
  }
 },
 "nbformat": 4,
 "nbformat_minor": 5
}
