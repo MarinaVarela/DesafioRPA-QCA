{
 "cells": [
  {
   "cell_type": "code",
   "execution_count": 1,
   "id": "5eda58bd",
   "metadata": {},
   "outputs": [],
   "source": [
    "#Configuração da máquina\n",
    "\n",
    "from selenium import webdriver\n",
    "from webdriver_manager.chrome import ChromeDriverManager\n",
    "from selenium.webdriver.chrome.service import Service\n",
    "\n",
    "servico = Service(ChromeDriverManager().install())\n",
    "\n",
    "navegador = webdriver.Chrome(service=servico)"
   ]
  },
  {
   "cell_type": "code",
   "execution_count": 2,
   "id": "2f0d0010",
   "metadata": {},
   "outputs": [],
   "source": [
    "# Acesso ao site\n",
    "navegador.get(\"http://dados.recife.pe.gov.br/organization\")\n",
    "\n",
    "# Clique em Secretária de infraestrutura e Serviços Urbanos\n",
    "navegador.find_element('xpath', '//*[@id=\"content\"]/div[3]/div/article/div/ul/li[19]/a').click()\n",
    "\n",
    "# Clique em Área Urbana\n",
    "navegador.find_element('xpath', '//*[@id=\"content\"]/div[3]/div/article/div/ul/li[1]/div/h3/a').click()\n",
    "\n",
    "# Clique em Bairros do Recife \n",
    "navegador.find_element('xpath', '//*[@id=\"dataset-resources\"]/ul/li[1]/a').click()\n",
    "\n",
    "# Baixar o arquivo .CSV\n",
    "navegador.find_element('xpath', '//*[@id=\"content\"]/div[3]/section/div/div[1]/ul/li[1]/div/a').click()"
   ]
  },
  {
   "cell_type": "code",
   "execution_count": null,
   "id": "6716e07a",
   "metadata": {},
   "outputs": [],
   "source": []
  }
 ],
 "metadata": {
  "kernelspec": {
   "display_name": "Python 3 (ipykernel)",
   "language": "python",
   "name": "python3"
  },
  "language_info": {
   "codemirror_mode": {
    "name": "ipython",
    "version": 3
   },
   "file_extension": ".py",
   "mimetype": "text/x-python",
   "name": "python",
   "nbconvert_exporter": "python",
   "pygments_lexer": "ipython3",
   "version": "3.9.13"
  }
 },
 "nbformat": 4,
 "nbformat_minor": 5
}
